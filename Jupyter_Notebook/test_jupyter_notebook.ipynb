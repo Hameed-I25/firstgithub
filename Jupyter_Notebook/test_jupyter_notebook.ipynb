{
 "cells": [
  {
   "cell_type": "markdown",
   "id": "cce94e1b",
   "metadata": {},
   "source": [
    "# Python ka chilla with #baba_ammar\n",
    "## How to use Jupyter Note Book\n",
    "## Basics of Python\n",
    "\n",
    "### **01 - my first program**"
   ]
  },
  {
   "cell_type": "code",
   "execution_count": 1,
   "id": "292a4acf",
   "metadata": {
    "scrolled": true
   },
   "outputs": [],
   "source": [
    "print(2+3)\n",
    "print('hello world')\n",
    "print('we are learning python with Ammar')"
   ]
  },
  {
   "cell_type": "markdown",
   "id": "bdc3e5f9",
   "metadata": {},
   "source": [
    "### **02 - Operators**"
   ]
  },
  {
   "cell_type": "code",
   "execution_count": 2,
   "id": "882085b1",
   "metadata": {},
   "outputs": [],
   "source": [
    "print(2+1)\n",
    "print(3-1)\n",
    "print(6/2)\n",
    "print(2*3)\n",
    "print(13%2)\n",
    "print(6//2)\n",
    "print(2**3)\n",
    "\n",
    "print(3**2/2*3/3+6-4)"
   ]
  },
  {
   "cell_type": "markdown",
   "id": "8bd1f5bc",
   "metadata": {},
   "source": [
    "**PEMDAS\n",
    "Parenthesis, Exponential, Multiplication, Division, Addition, Substratction\n",
    "Left to right sequence for M,D & A,**"
   ]
  },
  {
   "cell_type": "markdown",
   "id": "5bfcd75b",
   "metadata": {},
   "source": [
    "### **03 - Strings**"
   ]
  },
  {
   "cell_type": "code",
   "execution_count": 3,
   "id": "0c0aeacd",
   "metadata": {},
   "outputs": [
    {
     "name": "stdout",
     "output_type": "stream",
     "text": [
      "Hello world\n",
      "we are learning python with Ammar\n",
      "test for single quote\n",
      "test for double quote\n",
      "test for tripple quote\n",
      "what's up\n"
     ]
    }
   ],
   "source": [
    "print('Hello world')\n",
    "print('we are learning python with Ammar')\n",
    "print('test for single quote')\n",
    "print(\"test for double quote\")\n",
    "print('''test for tripple quote''')\n",
    "print(\"what's up\")"
   ]
  },
  {
   "cell_type": "markdown",
   "id": "800c2d20",
   "metadata": {},
   "source": [
    "### **04 - Comments in Python**"
   ]
  },
  {
   "cell_type": "code",
   "execution_count": 4,
   "id": "9abad008",
   "metadata": {},
   "outputs": [
    {
     "name": "stdout",
     "output_type": "stream",
     "text": [
      "how are you\n",
      "we are learning python with Ammar\n",
      "8\n"
     ]
    }
   ],
   "source": [
    "print('how are you') #press these to comment out Ctrl+/\n",
    "print(\"we are learning python with Ammar\") #to print a string\n",
    "print(2+6) #print operator function with numbers"
   ]
  },
  {
   "cell_type": "markdown",
   "id": "fe9cf612",
   "metadata": {},
   "source": [
    "### **05 - Variables**"
   ]
  },
  {
   "cell_type": "code",
   "execution_count": 5,
   "id": "e2bd3f97",
   "metadata": {
    "scrolled": true
   },
   "outputs": [
    {
     "name": "stdout",
     "output_type": "stream",
     "text": [
      "5\n",
      "we are learning python with Ammar\n",
      "15\n",
      "<class 'int'>\n",
      "<class 'str'>\n",
      "18\n",
      "<class 'int'>\n"
     ]
    }
   ],
   "source": [
    "#variables: objects containing specific values\n",
    "x=5 #numeric or integer variable\n",
    "print(x)\n",
    "y=\"we are learning python with Ammar\" #string variable\n",
    "print(y)\n",
    "\n",
    "x=15 #or x=x+10 (previously in line 2, x=5)\n",
    "print(x)\n",
    "\n",
    "#Types/Classes of variables\n",
    "type(x)\n",
    "print(type(x))\n",
    "\n",
    "print(type(y))\n",
    "\n",
    "#Rules to Assign Variables\n",
    "#1- the variables should contain letters, numbers, underscore\n",
    "#2- don't start with numbers\n",
    "#3- spaces are not allowed within variables\n",
    "#4- Don't use keywords like break, mean, median, test, etc.\n",
    "#5- Short & descriptive\n",
    "#6- Case sensitivity (prefer lower case)\n",
    "\n",
    "fruit_basket=(\"mangoes\")\n",
    "fruit_basket=18\n",
    "print (fruit_basket)\n",
    "print (type(fruit_basket))\n",
    "del fruit_basket\n"
   ]
  },
  {
   "cell_type": "markdown",
   "id": "888dfa7d",
   "metadata": {},
   "source": [
    "### **06 - User Input Variables**"
   ]
  },
  {
   "cell_type": "code",
   "execution_count": 6,
   "id": "e835e278",
   "metadata": {},
   "outputs": [
    {
     "name": "stdout",
     "output_type": "stream",
     "text": [
      "what is your name? ali\n",
      "How old are you? 15\n",
      "Hello! ali wow you are still very young\n",
      "what is your name? inam\n",
      "How old are you? 14\n",
      "Hello inam wow you are still very young\n",
      "what color rose is? red\n",
      "Rose is red\n"
     ]
    }
   ],
   "source": [
    "# fruit_basket=\"mangoes\"\n",
    "# print(fruit_basket)\n",
    "\n",
    "# input function simple\n",
    "# fruit_basket=input(\"what is your favourite fruit? \")\n",
    "# print (fruit_basket)\n",
    "\n",
    "# input function of 2nd stage\n",
    "# name=input(\"what is your name? \")\n",
    "# greetings=\"Hello!\"\n",
    "# print(greetings,name)\n",
    "\n",
    "# Another way of stage 2 input function\n",
    "# name=input(\"what is your name? \")\n",
    "# print(\"Hello!\",name)\n",
    "\n",
    "# 3rd stage input function\n",
    "name=input(\"what is your name? \")\n",
    "age=input(\"How old are you? \")\n",
    "greetings=\"Hello!\"\n",
    "print(greetings, name, \"wow you are still very young\")\n",
    "\n",
    "# Alternatively we can write above command as follows:\n",
    "name=input(\"what is your name? \")\n",
    "age=input(\"How old are you? \")\n",
    "print(\"Hello\", name, \"wow you are still very young\")\n",
    "\n",
    "color=input(\"what color rose is? \")\n",
    "print(\"Rose is\", color)"
   ]
  },
  {
   "cell_type": "markdown",
   "id": "c952b4fc",
   "metadata": {},
   "source": [
    "### **07 - Conditional Logics**"
   ]
  },
  {
   "cell_type": "code",
   "execution_count": 7,
   "id": "b603b3c3",
   "metadata": {},
   "outputs": [
    {
     "name": "stdout",
     "output_type": "stream",
     "text": [
      "How old hammad is? 14\n",
      "<class 'str'>\n",
      "False\n"
     ]
    }
   ],
   "source": [
    "#Logical Operators are either \"true or false\", \"yes or no\", \"0 or 1\"\n",
    "\n",
    "# is equal to               ==\n",
    "# NOT equal to              !=\n",
    "# less than                 <\n",
    "# less than & equal to      <=\n",
    "# greater than & equal to   >=\n",
    "\n",
    "# is 4 equal to 4?\n",
    "\n",
    "# print(4==4)\n",
    "# print(4!=4)\n",
    "# print(4>3)\n",
    "# print(3<6)\n",
    "# print(3<=5) #it shows true but mathematically its wrong; we'll study this operator later\n",
    "\n",
    "#Applications of logical operators\n",
    "\n",
    "# hammad_age=4\n",
    "# age_at_school=5\n",
    "# print(hammad_age==age_at_school)\n",
    "\n",
    "#Input function & logical operators\n",
    "\n",
    "age_at_school=5\n",
    "hammad_age=input(\"How old hammad is? \") #input function         \n",
    "print(type(hammad_age)) #it shows string type. It must be numeric to work through correct\n",
    "hammad_age=int(hammad_age)\n",
    "print(hammad_age==age_at_school) #logical operator\n"
   ]
  },
  {
   "cell_type": "markdown",
   "id": "841b8b83",
   "metadata": {},
   "source": [
    "### **08 - Type Conversions**"
   ]
  },
  {
   "cell_type": "code",
   "execution_count": 8,
   "id": "f7ec7582",
   "metadata": {},
   "outputs": [
    {
     "name": "stdout",
     "output_type": "stream",
     "text": [
      "what is your age? 15\n",
      "15 <class 'float'>\n"
     ]
    }
   ],
   "source": [
    "# x=10\n",
    "# y=10.2 \n",
    "# z=\"Hello\"\n",
    "\n",
    "# print(type(x))        int \n",
    "# print(type(y))        float\n",
    "# print(type(z))        str\n",
    "\n",
    "#Implicit type Conversion: when python interpretor coverts an object \n",
    "#from one data type to another on its own \n",
    "# without the need of programmer doing it manually\n",
    "#Examples:\n",
    "\n",
    "# x=x*y\n",
    "# # print(x)\n",
    "# print(type(x))   #float (int*float=float)\n",
    "\n",
    "# x=x+y\n",
    "#print(type(x))      #float (int+float=float) \n",
    "\n",
    "#Explicit Type Conversions aka Type-Casting: When programmer does it manually to convert data type to\n",
    "# a required type of data with help of built-in function\n",
    "#Examples:\n",
    "\n",
    "#age=input(\"What is your age? \")\n",
    "# print(type(age))  #[it will show age class as str]\n",
    "#age=int(age)       #[command for converting age class from str type to int]\n",
    "#print(type(age))   #[it will show age class as int type]\n",
    "\n",
    "#or alternatively, we can follow below command\n",
    "\n",
    "# print(type(int(age)))\n",
    "\n",
    "# in case we want above to convert to float data type, we will just replace int with float in above line\n",
    "\n",
    "#name=input(\"what is your name? \")\n",
    "#print(type(name))\n",
    "\n",
    "# print(type(name))\n",
    "#print(name, type(name))\n",
    "\n",
    "age=input(\"what is your age? \")\n",
    "#print(age, type(int(age))) [we can't enter float number age]\n",
    "print(age,type(float(age))) #[we can enter float number age]\n"
   ]
  },
  {
   "cell_type": "markdown",
   "id": "3373c89c",
   "metadata": {},
   "source": [
    "### **09 - Type Conversions**"
   ]
  },
  {
   "cell_type": "code",
   "execution_count": 9,
   "id": "1faeb03f",
   "metadata": {},
   "outputs": [
    {
     "name": "stdout",
     "output_type": "stream",
     "text": [
      "sorry, hammad can't go to school\n"
     ]
    }
   ],
   "source": [
    "required_age_at_school=5\n",
    "hammad_age=4\n",
    "\n",
    "# # Qus: Can hammad go to school?\n",
    "\n",
    "# if hammad_age==required_age_at_school:\n",
    "# #print(\"hammad can go to school\") #[nothing prints in output when we run it coz it's false. We must add else statement]\n",
    "\n",
    "#  print(\"congratulations! hammad can go to school\")\n",
    "# else:\n",
    "#  print(\"sorry, hammad can't go to school or should join higher classes\")\n",
    "\n",
    "# #Elif means ELSE-IF\n",
    "\n",
    "if hammad_age==required_age_at_school:\n",
    "    print(\"congratulations! hammad can join the school\")\n",
    "elif hammad_age>required_age_at_school:\n",
    "    print(\"hammad should join higher secondary school\")\n",
    "elif hammad_age<=3:\n",
    "    print(\"Hammad is a baby. Take care of him\")\n",
    "else: \n",
    "    print(\"sorry, hammad can't go to school\")"
   ]
  },
  {
   "cell_type": "markdown",
   "id": "ad25201e",
   "metadata": {},
   "source": [
    "### **10 - Type Conversions**"
   ]
  },
  {
   "cell_type": "code",
   "execution_count": 10,
   "id": "4647787c",
   "metadata": {},
   "outputs": [
    {
     "name": "stdout",
     "output_type": "stream",
     "text": [
      "60\n"
     ]
    }
   ],
   "source": [
    "# A function is a block of code which only runs when it is called.\n",
    "# You can pass data, known as parameters, into a function.\n",
    "# A function can return data as a result. [Source:W3schools.com]\n",
    "# print() is also type of function. similarly, we can create our own by defining it.\n",
    "\n",
    "# First Method of Defining Function\n",
    "\n",
    "def print_codonics():\n",
    "#     print(\"we are learning with Ammar\")\n",
    "#     print(\"we are learning with Ammar\")\n",
    "#     print(\"we are learning with Ammar\")\n",
    "\n",
    "# print_codonics()\n",
    "\n",
    "# Second Method of Defining Function\n",
    "\n",
    "#def print_codonics():\n",
    "    text = \"we are learning python with Ammar in codonics youtube channel\"\n",
    "    print(text)\n",
    "    print(text)\n",
    "    print(text)\n",
    "\n",
    "# print_codonics()\n",
    "\n",
    "#Third Method of Defining Function\n",
    "\n",
    "# def print_codonics(text):\n",
    "#     print(text)\n",
    "#     print(text)\n",
    "#     print(text)\n",
    "\n",
    "# print_codonics(\"we are learning python with Ammar\")\n",
    "#..............................\n",
    "\n",
    "# def greet(first_name, last_name):   #[PARAMETER is the input you define for your function]\n",
    "#     print(f\"Hi {first_name} {last_name} \")\n",
    "#     print(\"Welcome aboard\")\n",
    "\n",
    "# greet(\"Inam\", \"Hameed\")             #[ARGUMENT is actual value for a given parameter]\n",
    "\n",
    "# def greet():\n",
    "#     print(\"Hi there\")\n",
    "#     print(\"Welcome aboard\")\n",
    "\n",
    "# greet()\n",
    "\n",
    "# def greet(first_name, last_name):\n",
    "#     print(f\"Hi {first_name} {last_name} \") #[we used f-string formating. See my glossory]\n",
    "#     print(\"Welcome aboard\")\n",
    "\n",
    "# greet(\"Mosh\", \"Hamadani\")\n",
    "\n",
    "# def students_profiles(first_name, last_name, address, contact):\n",
    "#     print(f\"Hi {first_name} {last_name} {address} {contact}\")\n",
    "#     print(\"Welcome aboard\")\n",
    "\n",
    "# students_profiles(\"Serena\", \"Johns\", \"Islamabad\", \"0333-5473014\")\n",
    "\n",
    "# def codonics(first_name, second_name):\n",
    "#     print(f\"Hi {first_name} {second_name} \")\n",
    "#     print(\"Welcome aboard\")\n",
    "\n",
    "# codonics(\"Inam\",\"Hameed\")\n",
    "\n",
    "# How to make school age calculator\n",
    "\n",
    "# def school_calculator(age):\n",
    "#     if age==5:\n",
    "#         print(\"Hammad can join the school\")\n",
    "#     elif age>5:\n",
    "#         print(\"Hammad should go to higher school\")\n",
    "#     else:\n",
    "#         print(\"Hammad is still a baby\")\n",
    "\n",
    "# school_calculator(5)\n",
    "\n",
    "# How to make school age calculator\n",
    "\n",
    "def school_calculator(age):\n",
    "    if age==5:\n",
    "        print(\"Congrats! Hammad can join the school\")\n",
    "    elif 5<age<10:  #[age is greater than 5 but less than 10]\n",
    "        print(\"Hammad can join higher class\")\n",
    "    elif age>=10:\n",
    "        print(\"Hammad should join higher school\")\n",
    "    else:\n",
    "        print(\"Hammad is a baby. Please take care of him\")\n",
    "\n",
    "# school_calculator(4)\n",
    "\n",
    "# Defining a function of future, using mathematical operators\n",
    "\n",
    "def future_age(age):\n",
    "    new_age=age+20\n",
    "    return new_age\n",
    "\n",
    "# future_predicted_age=future_age(30)\n",
    "# print(future_predicted_age)\n",
    "\n",
    "#future_predicted_age=future_age(20)\n",
    "#print(future_predicted_age)\n",
    "\n",
    "# Exemple 2 (given by Inam)\n",
    "\n",
    "def future_score(score):\n",
    "    new_score=score+10\n",
    "    return new_score\n",
    "\n",
    "future_new_score=future_score(50)\n",
    "print(future_new_score)"
   ]
  },
  {
   "cell_type": "markdown",
   "id": "4161a4e2",
   "metadata": {},
   "source": [
    "### **11 - Loops**"
   ]
  },
  {
   "cell_type": "code",
   "execution_count": 11,
   "id": "fb3a6add",
   "metadata": {},
   "outputs": [
    {
     "name": "stdout",
     "output_type": "stream",
     "text": [
      "Mon\n",
      "Tue\n",
      "Wed\n",
      "Thur\n",
      "Sat\n",
      "Sun\n",
      "Good bye\n"
     ]
    }
   ],
   "source": [
    "#While Loop & For Loop\n",
    "\n",
    "#While Loop\n",
    "\n",
    "# Ex:1\n",
    "# x=0     #[Defined a variable & initialized it with zero]\n",
    "# while x<5:  #[Condition it should be less than 5]\n",
    "#     print(x)\n",
    "#     x=x+1  #[It must be incremented else it will run into infinite loop infinitely]\n",
    "\n",
    "# Ex:2\n",
    "\n",
    "# x=0\n",
    "# while x<=5:\n",
    "#     print(\"Number:\", x)\n",
    "#     x=x+1\n",
    "\n",
    "# print(\"Good bye\") #[Out of loop, print this]\n",
    "\n",
    "# For Loop\n",
    "\n",
    "# for x in range(4,9):  #[It specifies starting value as 4 means values from 4 to 9 but 9 not included]\n",
    "#     print(x)\n",
    "\n",
    "# How to use them in a program?\n",
    "# Let's create an array (dataset) of weekdays\n",
    "\n",
    "# days=[\"Mon\", \"Tue\", \"Wed\", \"Thu\", \"Fri\", \"Sat\", \"Sun\"]\n",
    "# for d in days:\n",
    "#     print(d)\n",
    "\n",
    "# Just in case we want to break the loop as it comes Fri, it should end with \"Good bye\"\n",
    "\n",
    "days=[\"Mon\", \"Tue\", \"Wed\", \"Thur\", \"Fri\", \"Sat\", \"Sun\"]\n",
    "for d in days:\n",
    "    # if (d==\"Fri\"): break #[Loop stops]\n",
    "    if d==\"Fri\": continue  #[skips d (that is Fri in our case)]\n",
    "    print(d)\n",
    "\n",
    "print(\"Good bye\")\n"
   ]
  },
  {
   "cell_type": "markdown",
   "id": "f712df3c",
   "metadata": {},
   "source": [
    "### **12 - Import Libraries**"
   ]
  },
  {
   "cell_type": "code",
   "execution_count": 12,
   "id": "9c38e032",
   "metadata": {},
   "outputs": [
    {
     "name": "stdout",
     "output_type": "stream",
     "text": [
      "the mean of above is 300\n"
     ]
    }
   ],
   "source": [
    "#[Libraries are just open source functions defined by developers. It's like we defined\n",
    "# functions in previous chapters. We can use already developed libraries to make work easy]\n",
    "\n",
    "#.Q. what is the value of pi?\n",
    "\n",
    "# import math\n",
    "# print(\"The value of pi is\", math.pi)\n",
    "\n",
    "import statistics\n",
    "\n",
    "x=[150,250,350,450]  #[We made random array of integers]\n",
    "\n",
    "print(\"the mean of above is\", statistics.mean(x))\n",
    "\n",
    "#there are many important libraries like numpy, pandas etc"
   ]
  },
  {
   "cell_type": "markdown",
   "id": "8a63a56e",
   "metadata": {},
   "source": [
    "### **13 - Troubleshooting**"
   ]
  },
  {
   "cell_type": "code",
   "execution_count": 13,
   "id": "207b96cc",
   "metadata": {},
   "outputs": [
    {
     "name": "stdout",
     "output_type": "stream",
     "text": [
      "Hello Ammar\n"
     ]
    }
   ],
   "source": [
    "#Erros in python\n",
    "\n",
    "# Ex.1:\n",
    "\n",
    "#print(we are learning python with ammar) #[syntax error: we ommitted quotations marks in string]\n",
    "\n",
    "# Ex. 2:\n",
    "\n",
    "# print (25/0)     #[it's called runtime error, involving maths. Zero division error]\n",
    "\n",
    "#Troubleshooting of abvoe two errors is easy!\n",
    "\n",
    "# Ex. 3:\n",
    "\n",
    "name=\"Ammar\"\n",
    "\n",
    "#print(\"Hello, name\")  #[known as Sementic error]\n",
    "\n",
    "#[it prints out (Hello, name) rather than (Hello Ammar)]. So if we have multiple codes lines\n",
    "# we will need to correct each code line as ]\n",
    "\n",
    "print(\"Hello\",name)  #[if we use + sign between hello & name instead of comma, then output HelloAmmar. space removes.]\n"
   ]
  }
 ],
 "metadata": {
  "kernelspec": {
   "display_name": "Python 3 (ipykernel)",
   "language": "python",
   "name": "python3"
  },
  "language_info": {
   "codemirror_mode": {
    "name": "ipython",
    "version": 3
   },
   "file_extension": ".py",
   "mimetype": "text/x-python",
   "name": "python",
   "nbconvert_exporter": "python",
   "pygments_lexer": "ipython3",
   "version": "3.9.12"
  }
 },
 "nbformat": 4,
 "nbformat_minor": 5
}
