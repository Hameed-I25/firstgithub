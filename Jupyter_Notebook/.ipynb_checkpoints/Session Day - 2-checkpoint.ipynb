{
 "cells": [
  {
   "cell_type": "code",
   "execution_count": 1,
   "id": "9014c292",
   "metadata": {},
   "outputs": [],
   "source": [
    "# Creating program of BMI (Body Mass Index)\n",
    "# Required Info: Three input variables: Weight, Height, Name\n",
    "# Make sure type of weight & height is same, say float. \n",
    "# height unit meter; weight unit kg"
   ]
  },
  {
   "cell_type": "code",
   "execution_count": null,
   "id": "d6ec4a99",
   "metadata": {
    "scrolled": true
   },
   "outputs": [],
   "source": [
    "weight = input(\"What is your weight in kg? \")"
   ]
  },
  {
   "cell_type": "code",
   "execution_count": null,
   "id": "e01ec53f",
   "metadata": {},
   "outputs": [],
   "source": [
    "weight=float(weight)"
   ]
  },
  {
   "cell_type": "code",
   "execution_count": null,
   "id": "3b4e2984",
   "metadata": {},
   "outputs": [],
   "source": [
    "height = input (\"What is your height in meter? \")"
   ]
  },
  {
   "cell_type": "code",
   "execution_count": null,
   "id": "7f1b8cce",
   "metadata": {},
   "outputs": [],
   "source": [
    "height=float(height)   #[we must convert both height & weight into floats]"
   ]
  },
  {
   "cell_type": "code",
   "execution_count": null,
   "id": "f3e499de",
   "metadata": {},
   "outputs": [],
   "source": [
    "name = input (\"What is your name? \")"
   ]
  },
  {
   "cell_type": "code",
   "execution_count": null,
   "id": "1528cbbf",
   "metadata": {},
   "outputs": [],
   "source": [
    "BMI = weight/height**2\n",
    "BMI"
   ]
  },
  {
   "cell_type": "code",
   "execution_count": null,
   "id": "3e5e7d40",
   "metadata": {},
   "outputs": [],
   "source": [
    "print(\"my name is\", name, \"and my BMI is\", BMI)"
   ]
  },
  {
   "cell_type": "markdown",
   "id": "5abab040",
   "metadata": {},
   "source": [
    "---"
   ]
  }
 ],
 "metadata": {
  "kernelspec": {
   "display_name": "Python 3 (ipykernel)",
   "language": "python",
   "name": "python3"
  },
  "language_info": {
   "codemirror_mode": {
    "name": "ipython",
    "version": 3
   },
   "file_extension": ".py",
   "mimetype": "text/x-python",
   "name": "python",
   "nbconvert_exporter": "python",
   "pygments_lexer": "ipython3",
   "version": "3.9.12"
  }
 },
 "nbformat": 4,
 "nbformat_minor": 5
}
